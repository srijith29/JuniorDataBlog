{
 "cells": [
  {
   "cell_type": "code",
   "execution_count": 1,
   "metadata": {},
   "outputs": [],
   "source": [
    "import pandas as pd\n",
    "import numpy as np"
   ]
  },
  {
   "cell_type": "code",
   "execution_count": 2,
   "metadata": {},
   "outputs": [],
   "source": [
    "## Reading the dataset\n",
    "df = pd.read_csv('survey_results_public.csv')"
   ]
  },
  {
   "cell_type": "code",
   "execution_count": 4,
   "metadata": {},
   "outputs": [
    {
     "data": {
      "text/plain": [
       "(88883, 85)"
      ]
     },
     "execution_count": 4,
     "metadata": {},
     "output_type": "execute_result"
    }
   ],
   "source": [
    "df.shape\n",
    "## data has 88883 rows and 85 columns"
   ]
  },
  {
   "cell_type": "code",
   "execution_count": 6,
   "metadata": {},
   "outputs": [],
   "source": [
    "## Regex to filter data professionals, less than 1 year  of professional coding experience\n",
    "import re"
   ]
  },
  {
   "cell_type": "code",
   "execution_count": 7,
   "metadata": {},
   "outputs": [],
   "source": [
    "junior_data = df[(df['YearsCodePro']=='Less than 1 year')&(df['DevType'].str.contains(\"data\\s|\\sdata$|\\sdata\\s\",flags=re.IGNORECASE,regex=True).fillna(value=False))]"
   ]
  },
  {
   "cell_type": "code",
   "execution_count": 25,
   "metadata": {},
   "outputs": [],
   "source": [
    "senior_data = df[~(df['YearsCodePro']=='Less than 1 year')&~(df['DevType'].str.contains(\"data\\s|\\sdata$|\\sdata\\s\",flags=re.IGNORECASE,regex=True).fillna(value=False))]"
   ]
  },
  {
   "cell_type": "code",
   "execution_count": 8,
   "metadata": {},
   "outputs": [],
   "source": [
    "## list of possible values of 'DevType'- developer type\n",
    "possible_vals = ['Academic researcher','Data or business analyst','Data scientist or machine learning specialist','Database administrator',\n",
    "'Designer','Developer, back-end','Developer, desktop or enterprise applications','Developer, embedded applications or devices','Developer, front-end',\n",
    "'Developer, full-stack',\n",
    "'Developer, game or graphics Developer, mobile',\n",
    "'Developer, QA or test',\n",
    "'DevOps specialist',\n",
    "'Educator',\n",
    "'Engineer, data',\n",
    "'Engineer, site reliability','Engineering manager',\n",
    "'Marketing or sales professional','Product manager',\n",
    "'Scientist','Senior Executive (C-Suite, VP, etc.)','Student','System administrator','Other']"
   ]
  },
  {
   "cell_type": "code",
   "execution_count": 9,
   "metadata": {},
   "outputs": [],
   "source": [
    "## Function to count the number of responses of each DevType\n",
    "def total_count(df,col1,col2,lookfor):\n",
    "    from collections import defaultdict\n",
    "    new_df = defaultdict(int)\n",
    "    for val in possible_vals:\n",
    "        for idx in range(df.shape[0]):\n",
    "            if val in df[col1][idx]:\n",
    "                new_df[val]+= int(df[col2][idx])\n",
    "    new_df = pd.DataFrame(pd.Series(new_df)).reset_index()\n",
    "    new_df.columns = [col1,col2]\n",
    "    new_df.sort_values('Count',ascending = False, inplace = True)\n",
    "    return new_df"
   ]
  },
  {
   "cell_type": "code",
   "execution_count": 10,
   "metadata": {},
   "outputs": [],
   "source": [
    "datatype = junior_data['DevType'].value_counts().reset_index()"
   ]
  },
  {
   "cell_type": "code",
   "execution_count": 11,
   "metadata": {},
   "outputs": [],
   "source": [
    "datatype.rename(columns = {'index':'DevType','DevType':'Count'},inplace=True)"
   ]
  },
  {
   "cell_type": "code",
   "execution_count": 12,
   "metadata": {},
   "outputs": [
    {
     "data": {
      "text/html": [
       "<div>\n",
       "<style scoped>\n",
       "    .dataframe tbody tr th:only-of-type {\n",
       "        vertical-align: middle;\n",
       "    }\n",
       "\n",
       "    .dataframe tbody tr th {\n",
       "        vertical-align: top;\n",
       "    }\n",
       "\n",
       "    .dataframe thead th {\n",
       "        text-align: right;\n",
       "    }\n",
       "</style>\n",
       "<table border=\"1\" class=\"dataframe\">\n",
       "  <thead>\n",
       "    <tr style=\"text-align: right;\">\n",
       "      <th></th>\n",
       "      <th>DevType</th>\n",
       "      <th>Count</th>\n",
       "    </tr>\n",
       "  </thead>\n",
       "  <tbody>\n",
       "    <tr>\n",
       "      <th>0</th>\n",
       "      <td>Data scientist or machine learning specialist</td>\n",
       "      <td>43</td>\n",
       "    </tr>\n",
       "    <tr>\n",
       "      <th>1</th>\n",
       "      <td>Data or business analyst</td>\n",
       "      <td>42</td>\n",
       "    </tr>\n",
       "    <tr>\n",
       "      <th>2</th>\n",
       "      <td>Engineer, data</td>\n",
       "      <td>22</td>\n",
       "    </tr>\n",
       "    <tr>\n",
       "      <th>3</th>\n",
       "      <td>Data or business analyst;Data scientist or mac...</td>\n",
       "      <td>16</td>\n",
       "    </tr>\n",
       "    <tr>\n",
       "      <th>4</th>\n",
       "      <td>Data scientist or machine learning specialist;...</td>\n",
       "      <td>11</td>\n",
       "    </tr>\n",
       "  </tbody>\n",
       "</table>\n",
       "</div>"
      ],
      "text/plain": [
       "                                             DevType  Count\n",
       "0      Data scientist or machine learning specialist     43\n",
       "1                           Data or business analyst     42\n",
       "2                                     Engineer, data     22\n",
       "3  Data or business analyst;Data scientist or mac...     16\n",
       "4  Data scientist or machine learning specialist;...     11"
      ]
     },
     "execution_count": 12,
     "metadata": {},
     "output_type": "execute_result"
    }
   ],
   "source": [
    "datatype.head()"
   ]
  },
  {
   "cell_type": "code",
   "execution_count": 14,
   "metadata": {},
   "outputs": [],
   "source": [
    "## dataframe created to represent the count of each devtypes\n",
    "datatype_df = total_count(datatype,'DevType','Count',possible_vals)"
   ]
  },
  {
   "cell_type": "code",
   "execution_count": 15,
   "metadata": {},
   "outputs": [],
   "source": [
    "## Adding percentage of each roles present\n",
    "datatype_df['perc'] = datatype_df['Count']/558"
   ]
  },
  {
   "cell_type": "code",
   "execution_count": 16,
   "metadata": {},
   "outputs": [
    {
     "data": {
      "text/html": [
       "<div>\n",
       "<style scoped>\n",
       "    .dataframe tbody tr th:only-of-type {\n",
       "        vertical-align: middle;\n",
       "    }\n",
       "\n",
       "    .dataframe tbody tr th {\n",
       "        vertical-align: top;\n",
       "    }\n",
       "\n",
       "    .dataframe thead th {\n",
       "        text-align: right;\n",
       "    }\n",
       "</style>\n",
       "<table border=\"1\" class=\"dataframe\">\n",
       "  <thead>\n",
       "    <tr style=\"text-align: right;\">\n",
       "      <th></th>\n",
       "      <th>DevType</th>\n",
       "      <th>Count</th>\n",
       "      <th>perc</th>\n",
       "    </tr>\n",
       "  </thead>\n",
       "  <tbody>\n",
       "    <tr>\n",
       "      <th>2</th>\n",
       "      <td>Data scientist or machine learning specialist</td>\n",
       "      <td>299</td>\n",
       "      <td>0.535842</td>\n",
       "    </tr>\n",
       "    <tr>\n",
       "      <th>1</th>\n",
       "      <td>Data or business analyst</td>\n",
       "      <td>283</td>\n",
       "      <td>0.507168</td>\n",
       "    </tr>\n",
       "    <tr>\n",
       "      <th>5</th>\n",
       "      <td>Developer, back-end</td>\n",
       "      <td>209</td>\n",
       "      <td>0.374552</td>\n",
       "    </tr>\n",
       "    <tr>\n",
       "      <th>13</th>\n",
       "      <td>Engineer, data</td>\n",
       "      <td>167</td>\n",
       "      <td>0.299283</td>\n",
       "    </tr>\n",
       "    <tr>\n",
       "      <th>9</th>\n",
       "      <td>Developer, full-stack</td>\n",
       "      <td>161</td>\n",
       "      <td>0.288530</td>\n",
       "    </tr>\n",
       "    <tr>\n",
       "      <th>19</th>\n",
       "      <td>Student</td>\n",
       "      <td>144</td>\n",
       "      <td>0.258065</td>\n",
       "    </tr>\n",
       "    <tr>\n",
       "      <th>8</th>\n",
       "      <td>Developer, front-end</td>\n",
       "      <td>133</td>\n",
       "      <td>0.238351</td>\n",
       "    </tr>\n",
       "    <tr>\n",
       "      <th>0</th>\n",
       "      <td>Academic researcher</td>\n",
       "      <td>112</td>\n",
       "      <td>0.200717</td>\n",
       "    </tr>\n",
       "    <tr>\n",
       "      <th>6</th>\n",
       "      <td>Developer, desktop or enterprise applications</td>\n",
       "      <td>82</td>\n",
       "      <td>0.146953</td>\n",
       "    </tr>\n",
       "    <tr>\n",
       "      <th>3</th>\n",
       "      <td>Database administrator</td>\n",
       "      <td>80</td>\n",
       "      <td>0.143369</td>\n",
       "    </tr>\n",
       "    <tr>\n",
       "      <th>4</th>\n",
       "      <td>Designer</td>\n",
       "      <td>68</td>\n",
       "      <td>0.121864</td>\n",
       "    </tr>\n",
       "    <tr>\n",
       "      <th>18</th>\n",
       "      <td>Scientist</td>\n",
       "      <td>58</td>\n",
       "      <td>0.103943</td>\n",
       "    </tr>\n",
       "    <tr>\n",
       "      <th>20</th>\n",
       "      <td>System administrator</td>\n",
       "      <td>45</td>\n",
       "      <td>0.080645</td>\n",
       "    </tr>\n",
       "    <tr>\n",
       "      <th>7</th>\n",
       "      <td>Developer, embedded applications or devices</td>\n",
       "      <td>42</td>\n",
       "      <td>0.075269</td>\n",
       "    </tr>\n",
       "    <tr>\n",
       "      <th>10</th>\n",
       "      <td>Developer, QA or test</td>\n",
       "      <td>40</td>\n",
       "      <td>0.071685</td>\n",
       "    </tr>\n",
       "    <tr>\n",
       "      <th>12</th>\n",
       "      <td>Educator</td>\n",
       "      <td>32</td>\n",
       "      <td>0.057348</td>\n",
       "    </tr>\n",
       "    <tr>\n",
       "      <th>11</th>\n",
       "      <td>DevOps specialist</td>\n",
       "      <td>25</td>\n",
       "      <td>0.044803</td>\n",
       "    </tr>\n",
       "    <tr>\n",
       "      <th>17</th>\n",
       "      <td>Product manager</td>\n",
       "      <td>22</td>\n",
       "      <td>0.039427</td>\n",
       "    </tr>\n",
       "    <tr>\n",
       "      <th>14</th>\n",
       "      <td>Engineer, site reliability</td>\n",
       "      <td>15</td>\n",
       "      <td>0.026882</td>\n",
       "    </tr>\n",
       "    <tr>\n",
       "      <th>15</th>\n",
       "      <td>Engineering manager</td>\n",
       "      <td>15</td>\n",
       "      <td>0.026882</td>\n",
       "    </tr>\n",
       "    <tr>\n",
       "      <th>16</th>\n",
       "      <td>Marketing or sales professional</td>\n",
       "      <td>15</td>\n",
       "      <td>0.026882</td>\n",
       "    </tr>\n",
       "  </tbody>\n",
       "</table>\n",
       "</div>"
      ],
      "text/plain": [
       "                                          DevType  Count      perc\n",
       "2   Data scientist or machine learning specialist    299  0.535842\n",
       "1                        Data or business analyst    283  0.507168\n",
       "5                             Developer, back-end    209  0.374552\n",
       "13                                 Engineer, data    167  0.299283\n",
       "9                           Developer, full-stack    161  0.288530\n",
       "19                                        Student    144  0.258065\n",
       "8                            Developer, front-end    133  0.238351\n",
       "0                             Academic researcher    112  0.200717\n",
       "6   Developer, desktop or enterprise applications     82  0.146953\n",
       "3                          Database administrator     80  0.143369\n",
       "4                                        Designer     68  0.121864\n",
       "18                                      Scientist     58  0.103943\n",
       "20                           System administrator     45  0.080645\n",
       "7     Developer, embedded applications or devices     42  0.075269\n",
       "10                          Developer, QA or test     40  0.071685\n",
       "12                                       Educator     32  0.057348\n",
       "11                              DevOps specialist     25  0.044803\n",
       "17                                Product manager     22  0.039427\n",
       "14                     Engineer, site reliability     15  0.026882\n",
       "15                            Engineering manager     15  0.026882\n",
       "16                Marketing or sales professional     15  0.026882"
      ]
     },
     "execution_count": 16,
     "metadata": {},
     "output_type": "execute_result"
    }
   ],
   "source": [
    "datatype_df"
   ]
  },
  {
   "cell_type": "markdown",
   "metadata": {},
   "source": [
    "### Who are these Junior Data Professionals?"
   ]
  },
  {
   "cell_type": "code",
   "execution_count": 21,
   "metadata": {},
   "outputs": [],
   "source": [
    "import seaborn as sns"
   ]
  },
  {
   "cell_type": "code",
   "execution_count": 24,
   "metadata": {},
   "outputs": [
    {
     "data": {
      "text/plain": [
       "<matplotlib.axes._subplots.AxesSubplot at 0x125087cf8>"
      ]
     },
     "execution_count": 24,
     "metadata": {},
     "output_type": "execute_result"
    },
    {
     "data": {
      "image/png": "[encoded data removed]",
      "text/plain": [
       "<Figure size 432x288 with 1 Axes>"
      ]
     },
     "metadata": {
      "needs_background": "light"
     },
     "output_type": "display_data"
    }
   ],
   "source": [
    "sns.barplot(x= datatype_df['Count'], y= datatype_df['DevType'])"
   ]
  },
  {
   "cell_type": "markdown",
   "metadata": {},
   "source": [
    "#### Majority of them identify themselves as DataScientist or Machine Learning Specialist which is about 54 percent. About 51 percent as Data or Business Analyst. About 2 pecent of the respondents also identifed themselves as Marketing or Sales professional  and was the lowest among the responses. "
   ]
  },
  {
   "cell_type": "markdown",
   "metadata": {},
   "source": [
    "### Does the Junior Data Professional work longer on average compared to the total average number of working hours per week?"
   ]
  },
  {
   "cell_type": "code",
   "execution_count": 43,
   "metadata": {},
   "outputs": [
    {
     "data": {
      "text/plain": [
       "38.86727688787185"
      ]
     },
     "execution_count": 43,
     "metadata": {},
     "output_type": "execute_result"
    }
   ],
   "source": [
    "## mean hours for a junior data pro\n",
    "junior_data['WorkWeekHrs'].mean()"
   ]
  },
  {
   "cell_type": "code",
   "execution_count": 29,
   "metadata": {},
   "outputs": [
    {
     "data": {
      "text/plain": [
       "42.15981877335889"
      ]
     },
     "execution_count": 29,
     "metadata": {},
     "output_type": "execute_result"
    }
   ],
   "source": [
    "## mean hours for a senior data pro\n",
    "senior_data['WorkWeekHrs'].mean()"
   ]
  },
  {
   "cell_type": "markdown",
   "metadata": {},
   "source": [
    "On average Junior Data Professional works 3.25 hours less than the general average"
   ]
  },
  {
   "cell_type": "markdown",
   "metadata": {},
   "source": [
    "### What is the average salary of a Junior Data Professional?"
   ]
  },
  {
   "cell_type": "code",
   "execution_count": 62,
   "metadata": {},
   "outputs": [
    {
     "data": {
      "text/plain": [
       "<matplotlib.axes._subplots.AxesSubplot at 0x11a2df908>"
      ]
     },
     "execution_count": 62,
     "metadata": {},
     "output_type": "execute_result"
    },
    {
     "data": {
      "image/png": "[encoded data removed]",
      "text/plain": [
       "<Figure size 360x1440 with 1 Axes>"
      ]
     },
     "metadata": {},
     "output_type": "display_data"
    }
   ],
   "source": [
    "## Box plot reveals the skew and outliers\n",
    "junior_data.boxplot(column ='CompTotal',figsize=(5,20))"
   ]
  },
  {
   "cell_type": "code",
   "execution_count": 24,
   "metadata": {},
   "outputs": [
    {
     "data": {
      "text/plain": [
       "3192505.914438503"
      ]
     },
     "execution_count": 24,
     "metadata": {},
     "output_type": "execute_result"
    }
   ],
   "source": [
    "## Mean value of tge Total Compensation\n",
    "junior_data['CompTotal'].mean()"
   ]
  },
  {
   "cell_type": "code",
   "execution_count": 25,
   "metadata": {},
   "outputs": [
    {
     "data": {
      "text/plain": [
       "37400.0"
      ]
     },
     "execution_count": 25,
     "metadata": {},
     "output_type": "execute_result"
    }
   ],
   "source": [
    "## Median Value\n",
    "junior_data['CompTotal'].median()"
   ]
  },
  {
   "cell_type": "code",
   "execution_count": 41,
   "metadata": {},
   "outputs": [
    {
     "data": {
      "text/plain": [
       "1000000000.0"
      ]
     },
     "execution_count": 41,
     "metadata": {},
     "output_type": "execute_result"
    }
   ],
   "source": [
    "## Max value of Total Compensation\n",
    "junior_data['CompTotal'].max()"
   ]
  },
  {
   "cell_type": "code",
   "execution_count": 27,
   "metadata": {},
   "outputs": [
    {
     "name": "stderr",
     "output_type": "stream",
     "text": [
      "/Users/kavitasreejithpillai/anaconda3/lib/python3.7/site-packages/pandas/core/indexing.py:543: SettingWithCopyWarning: \n",
      "A value is trying to be set on a copy of a slice from a DataFrame.\n",
      "Try using .loc[row_indexer,col_indexer] = value instead\n",
      "\n",
      "See the caveats in the documentation: http://pandas.pydata.org/pandas-docs/stable/indexing.html#indexing-view-versus-copy\n",
      "  self.obj[item] = s\n"
     ]
    }
   ],
   "source": [
    "## using median to fill the na values\n",
    "junior_data.loc[:,'CompTotal'] = junior_data['CompTotal'].fillna(junior_data['CompTotal'].median())"
   ]
  },
  {
   "cell_type": "code",
   "execution_count": 39,
   "metadata": {},
   "outputs": [],
   "source": [
    "## creating dataframe without outliers for Total Compensation\n",
    "junior_data_CompTotal_out = junior_data[junior_data['CompTotal'].between(junior_data['CompTotal'].quantile(.15), junior_data['CompTotal'].quantile(.75))]"
   ]
  },
  {
   "cell_type": "code",
   "execution_count": 35,
   "metadata": {},
   "outputs": [
    {
     "data": {
      "text/plain": [
       "<matplotlib.axes._subplots.AxesSubplot at 0x11f7512e8>"
      ]
     },
     "execution_count": 35,
     "metadata": {},
     "output_type": "execute_result"
    },
    {
     "data": {
      "image/png": "[encoded data removed]",
      "text/plain": [
       "<Figure size 432x288 with 1 Axes>"
      ]
     },
     "metadata": {
      "needs_background": "light"
     },
     "output_type": "display_data"
    }
   ],
   "source": [
    "## Distribution the total compensation variable\n",
    "junior_data_CompTotal_out['CompTotal'].plot(kind='hist')"
   ]
  },
  {
   "cell_type": "code",
   "execution_count": 38,
   "metadata": {},
   "outputs": [],
   "source": [
    "## list of all possible values for LanguagesWorkedWith variable\n",
    "possible_vals_tech = ['Assembly','Bash/Shell/PowerShell', 'C','C++','C#','Clojure Dart Elixir Erlang','F#',\n",
    "                      'Go','HTML/CSS','Java','JavaScript','Kotlin','Objective-C','PHP',\n",
    "                      'Python','R','Ruby','Rust','Scala','SQL','Swift','TypeScript','VBA','WebAssembly']"
   ]
  },
  {
   "cell_type": "code",
   "execution_count": 56,
   "metadata": {},
   "outputs": [],
   "source": [
    "techtype = junior_data_CompTotal_out['LanguageWorkedWith'].value_counts().reset_index()"
   ]
  },
  {
   "cell_type": "code",
   "execution_count": 57,
   "metadata": {},
   "outputs": [
    {
     "data": {
      "text/html": [
       "<div>\n",
       "<style scoped>\n",
       "    .dataframe tbody tr th:only-of-type {\n",
       "        vertical-align: middle;\n",
       "    }\n",
       "\n",
       "    .dataframe tbody tr th {\n",
       "        vertical-align: top;\n",
       "    }\n",
       "\n",
       "    .dataframe thead th {\n",
       "        text-align: right;\n",
       "    }\n",
       "</style>\n",
       "<table border=\"1\" class=\"dataframe\">\n",
       "  <thead>\n",
       "    <tr style=\"text-align: right;\">\n",
       "      <th></th>\n",
       "      <th>index</th>\n",
       "      <th>LanguageWorkedWith</th>\n",
       "    </tr>\n",
       "  </thead>\n",
       "  <tbody>\n",
       "    <tr>\n",
       "      <th>0</th>\n",
       "      <td>Python</td>\n",
       "      <td>9</td>\n",
       "    </tr>\n",
       "    <tr>\n",
       "      <th>1</th>\n",
       "      <td>Python;SQL</td>\n",
       "      <td>8</td>\n",
       "    </tr>\n",
       "    <tr>\n",
       "      <th>2</th>\n",
       "      <td>Python;R;SQL</td>\n",
       "      <td>6</td>\n",
       "    </tr>\n",
       "    <tr>\n",
       "      <th>3</th>\n",
       "      <td>HTML/CSS;JavaScript;Python;SQL</td>\n",
       "      <td>5</td>\n",
       "    </tr>\n",
       "    <tr>\n",
       "      <th>4</th>\n",
       "      <td>Python;R</td>\n",
       "      <td>5</td>\n",
       "    </tr>\n",
       "  </tbody>\n",
       "</table>\n",
       "</div>"
      ],
      "text/plain": [
       "                            index  LanguageWorkedWith\n",
       "0                          Python                   9\n",
       "1                      Python;SQL                   8\n",
       "2                    Python;R;SQL                   6\n",
       "3  HTML/CSS;JavaScript;Python;SQL                   5\n",
       "4                        Python;R                   5"
      ]
     },
     "execution_count": 57,
     "metadata": {},
     "output_type": "execute_result"
    }
   ],
   "source": [
    "techtype.head()"
   ]
  },
  {
   "cell_type": "code",
   "execution_count": 58,
   "metadata": {},
   "outputs": [],
   "source": [
    "techtype.rename(columns = {'index':'skill','LanguageWorkedWith':'Count'},inplace=True)"
   ]
  },
  {
   "cell_type": "code",
   "execution_count": 59,
   "metadata": {},
   "outputs": [
    {
     "data": {
      "text/html": [
       "<div>\n",
       "<style scoped>\n",
       "    .dataframe tbody tr th:only-of-type {\n",
       "        vertical-align: middle;\n",
       "    }\n",
       "\n",
       "    .dataframe tbody tr th {\n",
       "        vertical-align: top;\n",
       "    }\n",
       "\n",
       "    .dataframe thead th {\n",
       "        text-align: right;\n",
       "    }\n",
       "</style>\n",
       "<table border=\"1\" class=\"dataframe\">\n",
       "  <thead>\n",
       "    <tr style=\"text-align: right;\">\n",
       "      <th></th>\n",
       "      <th>skill</th>\n",
       "      <th>Count</th>\n",
       "    </tr>\n",
       "  </thead>\n",
       "  <tbody>\n",
       "    <tr>\n",
       "      <th>0</th>\n",
       "      <td>Python</td>\n",
       "      <td>9</td>\n",
       "    </tr>\n",
       "    <tr>\n",
       "      <th>1</th>\n",
       "      <td>Python;SQL</td>\n",
       "      <td>8</td>\n",
       "    </tr>\n",
       "    <tr>\n",
       "      <th>2</th>\n",
       "      <td>Python;R;SQL</td>\n",
       "      <td>6</td>\n",
       "    </tr>\n",
       "    <tr>\n",
       "      <th>3</th>\n",
       "      <td>HTML/CSS;JavaScript;Python;SQL</td>\n",
       "      <td>5</td>\n",
       "    </tr>\n",
       "    <tr>\n",
       "      <th>4</th>\n",
       "      <td>Python;R</td>\n",
       "      <td>5</td>\n",
       "    </tr>\n",
       "  </tbody>\n",
       "</table>\n",
       "</div>"
      ],
      "text/plain": [
       "                            skill  Count\n",
       "0                          Python      9\n",
       "1                      Python;SQL      8\n",
       "2                    Python;R;SQL      6\n",
       "3  HTML/CSS;JavaScript;Python;SQL      5\n",
       "4                        Python;R      5"
      ]
     },
     "execution_count": 59,
     "metadata": {},
     "output_type": "execute_result"
    }
   ],
   "source": [
    "techtype.head()"
   ]
  },
  {
   "cell_type": "code",
   "execution_count": 60,
   "metadata": {},
   "outputs": [
    {
     "name": "stdout",
     "output_type": "stream",
     "text": [
      "                    skill  Count\n",
      "12                 Python    168\n",
      "2                       C    140\n",
      "17                    SQL    127\n",
      "7                    Java    122\n",
      "6                HTML/CSS    105\n",
      "8              JavaScript     93\n",
      "1   Bash/Shell/PowerShell     70\n",
      "13                      R     57\n",
      "3                     C++     46\n",
      "4                      C#     43\n",
      "11                    PHP     32\n",
      "19             TypeScript     28\n",
      "20                    VBA     17\n",
      "16                  Scala     11\n",
      "0                Assembly     11\n",
      "9                  Kotlin      9\n",
      "18                  Swift      8\n",
      "14                   Ruby      6\n",
      "5                      Go      6\n",
      "10            Objective-C      3\n",
      "15                   Rust      2\n",
      "21            WebAssembly      1\n"
     ]
    }
   ],
   "source": [
    "## Function to count the responses for each skill\n",
    "from collections import defaultdict\n",
    "new_df = defaultdict(int)\n",
    "for each in possible_vals_tech:\n",
    "    for idx in range(techtype.shape[0]):\n",
    "        if each in techtype['skill'][idx]:\n",
    "            ##print(each + str(idx))\n",
    "            new_df[each]+=int(techtype['Count'][idx])\n",
    "new_df = pd.DataFrame(pd.Series(new_df)).reset_index()\n",
    "new_df.columns = ['skill','Count']\n",
    "new_df.sort_values('Count',ascending = False, inplace = True)            \n",
    "        \n",
    "print(new_df)            \n",
    "   \n",
    "    "
   ]
  },
  {
   "cell_type": "code",
   "execution_count": 61,
   "metadata": {},
   "outputs": [
    {
     "data": {
      "text/plain": [
       "<matplotlib.axes._subplots.AxesSubplot at 0x127e8fef0>"
      ]
     },
     "execution_count": 61,
     "metadata": {},
     "output_type": "execute_result"
    },
    {
     "data": {
      "image/png": "[encoded data removed]",
      "text/plain": [
       "<Figure size 432x288 with 1 Axes>"
      ]
     },
     "metadata": {
      "needs_background": "light"
     },
     "output_type": "display_data"
    }
   ],
   "source": [
    "## Bar char to represent the skill sets\n",
    "sns.barplot(x= new_df['Count'], y= new_df['skill'])"
   ]
  },
  {
   "cell_type": "code",
   "execution_count": 99,
   "metadata": {},
   "outputs": [],
   "source": [
    "junior_data_CompTotal_out_high = junior_data_CompTotal_out[junior_data_CompTotal_out['CompTotal']>35000]"
   ]
  },
  {
   "cell_type": "code",
   "execution_count": 111,
   "metadata": {},
   "outputs": [
    {
     "data": {
      "text/plain": [
       "Somewhat confident        68\n",
       "Very confident            64\n",
       "Not at all confident      20\n",
       "I don't have a manager     8\n",
       "Name: MgrIdiot, dtype: int64"
      ]
     },
     "execution_count": 111,
     "metadata": {},
     "output_type": "execute_result"
    }
   ],
   "source": [
    "junior_data_CompTotal_out_high['MgrIdiot'].value_counts()"
   ]
  },
  {
   "cell_type": "code",
   "execution_count": 102,
   "metadata": {},
   "outputs": [
    {
     "name": "stdout",
     "output_type": "stream",
     "text": [
      "                     type  Count\n",
      "2                       C    160\n",
      "13                 Python    155\n",
      "8                    Java    138\n",
      "7                HTML/CSS    116\n",
      "18                    SQL    114\n",
      "9              JavaScript    106\n",
      "1   Bash/Shell/PowerShell     71\n",
      "3                     C++     67\n",
      "14                      R     54\n",
      "12                    PHP     46\n",
      "4                      C#     44\n",
      "20             TypeScript     25\n",
      "0                Assembly     24\n",
      "21                    VBA     16\n",
      "10                 Kotlin     11\n",
      "17                  Scala     10\n",
      "11            Objective-C      8\n",
      "15                   Ruby      7\n",
      "19                  Swift      6\n",
      "16                   Rust      5\n",
      "6                      Go      5\n",
      "22            WebAssembly      4\n",
      "5                      F#      3\n"
     ]
    }
   ],
   "source": [
    "from collections import defaultdict\n",
    "new_df = defaultdict(int)\n",
    "for each in possible_vals_tech:\n",
    "    for idx in range(techtype_high.shape[0]):\n",
    "        if each in techtype_high['type'][idx]:\n",
    "            ##print(each + str(idx))\n",
    "            new_df[each]+=int(techtype_high['Count'][idx])\n",
    "new_df = pd.DataFrame(pd.Series(new_df)).reset_index()\n",
    "new_df.columns = ['type','Count']\n",
    "new_df.sort_values('Count',ascending = False, inplace = True)            \n",
    "        \n",
    "print(new_df)   "
   ]
  },
  {
   "cell_type": "code",
   "execution_count": 104,
   "metadata": {},
   "outputs": [
    {
     "data": {
      "text/plain": [
       "<matplotlib.axes._subplots.AxesSubplot at 0x11ff5dc88>"
      ]
     },
     "execution_count": 104,
     "metadata": {},
     "output_type": "execute_result"
    },
    {
     "data": {
      "image/png": "[encoded data removed]",
      "text/plain": [
       "<Figure size 432x288 with 1 Axes>"
      ]
     },
     "metadata": {
      "needs_background": "light"
     },
     "output_type": "display_data"
    }
   ],
   "source": [
    "new_df.plot.bar(x='type',y='Count')"
   ]
  },
  {
   "cell_type": "code",
   "execution_count": 94,
   "metadata": {},
   "outputs": [
    {
     "data": {
      "text/plain": [
       "37400.0"
      ]
     },
     "execution_count": 94,
     "metadata": {},
     "output_type": "execute_result"
    }
   ],
   "source": [
    "junior_data_CompTotal_out['CompTotal'].median()"
   ]
  },
  {
   "cell_type": "code",
   "execution_count": 49,
   "metadata": {},
   "outputs": [],
   "source": [
    "techtype_df = total_count(techtype,'type','Count',possible_vals_tech)"
   ]
  },
  {
   "cell_type": "code",
   "execution_count": 149,
   "metadata": {},
   "outputs": [
    {
     "data": {
      "text/plain": [
       "0                          HTML/CSS;Java;JavaScript;Python\n",
       "1                                      C++;HTML/CSS;Python\n",
       "3                                      C;C++;C#;Python;SQL\n",
       "4              C++;HTML/CSS;Java;JavaScript;Python;SQL;VBA\n",
       "6                                      HTML/CSS;JavaScript\n",
       "7        Bash/Shell/PowerShell;C;C++;HTML/CSS;Java;Java...\n",
       "10                                               Other(s):\n",
       "11        Bash/Shell/PowerShell;HTML/CSS;Java;Python;R;SQL\n",
       "14       Assembly;Bash/Shell/PowerShell;C;C++;HTML/CSS;...\n",
       "20       Assembly;Bash/Shell/PowerShell;C;C++;Go;Java;J...\n",
       "22       Bash/Shell/PowerShell;HTML/CSS;JavaScript;Pyth...\n",
       "26               C++;JavaScript;Python;Ruby;SQL;TypeScript\n",
       "27                                   JavaScript;TypeScript\n",
       "30                                                  Python\n",
       "33                                     HTML/CSS;JavaScript\n",
       "34                                     HTML/CSS;JavaScript\n",
       "36       Bash/Shell/PowerShell;JavaScript;Python;Other(s):\n",
       "39                                             C#;HTML/CSS\n",
       "40       Bash/Shell/PowerShell;C;C++;HTML/CSS;Java;Java...\n",
       "41                      HTML/CSS;JavaScript;PHP;TypeScript\n",
       "45       Bash/Shell/PowerShell;C;C#;HTML/CSS;JavaScript...\n",
       "47                                        HTML/CSS;PHP;SQL\n",
       "50       Bash/Shell/PowerShell;C++;HTML/CSS;Java;JavaSc...\n",
       "54                                         Java;Python;SQL\n",
       "60           C++;C#;HTML/CSS;JavaScript;PHP;Python;SQL;VBA\n",
       "61       Bash/Shell/PowerShell;C++;Go;HTML/CSS;Java;Jav...\n",
       "62       Bash/Shell/PowerShell;Clojure;Java;Python;Othe...\n",
       "64                         Assembly;C;C++;C#;HTML/CSS;Java\n",
       "69                              C#;HTML/CSS;JavaScript;SQL\n",
       "72                                                     SQL\n",
       "                               ...                        \n",
       "88853     HTML/CSS;Java;JavaScript;Python;Swift;TypeScript\n",
       "88854    Bash/Shell/PowerShell;C;C++;HTML/CSS;Java;Java...\n",
       "88855                                                 Dart\n",
       "88856                                                  NaN\n",
       "88857             Bash/Shell/PowerShell;HTML/CSS;PHP;R;SQL\n",
       "88858                                                  NaN\n",
       "88859                                          Go;HTML/CSS\n",
       "88860      Bash/Shell/PowerShell;C++;Python;Ruby;Other(s):\n",
       "88861                                                  NaN\n",
       "88862                                                  NaN\n",
       "88863                                      C;C++;Other(s):\n",
       "88864        Bash/Shell/PowerShell;C++;HTML/CSS;JavaScript\n",
       "88865      Bash/Shell/PowerShell;HTML/CSS;Python;Other(s):\n",
       "88866                            Assembly;C++;HTML/CSS;VBA\n",
       "88867                                                  NaN\n",
       "88868                                                  NaN\n",
       "88869                                                  NaN\n",
       "88870                                           C;C++;Java\n",
       "88871    Assembly;Bash/Shell/PowerShell;C;C#;HTML/CSS;J...\n",
       "88872             C;C++;HTML/CSS;JavaScript;PHP;Python;SQL\n",
       "88873                                                  NaN\n",
       "88874                                                  NaN\n",
       "88875                             HTML/CSS;Java;JavaScript\n",
       "88876                           HTML/CSS;JavaScript;Python\n",
       "88877    Bash/Shell/PowerShell;Go;HTML/CSS;JavaScript;W...\n",
       "88878                        HTML/CSS;JavaScript;Other(s):\n",
       "88879                                                  NaN\n",
       "88880                                                  NaN\n",
       "88881                                                  NaN\n",
       "88882    Bash/Shell/PowerShell;HTML/CSS;Java;JavaScript...\n",
       "Name: LanguageWorkedWith, Length: 39026, dtype: object"
      ]
     },
     "execution_count": 149,
     "metadata": {},
     "output_type": "execute_result"
    }
   ],
   "source": [
    "df_CompTotal_out[df_CompTotal_out['CompTotal']>60000]['LanguageWorkedWith']"
   ]
  },
  {
   "cell_type": "code",
   "execution_count": null,
   "metadata": {},
   "outputs": [],
   "source": []
  },
  {
   "cell_type": "code",
   "execution_count": 95,
   "metadata": {},
   "outputs": [
    {
     "data": {
      "text/plain": [
       "dtype('float64')"
      ]
     },
     "execution_count": 95,
     "metadata": {},
     "output_type": "execute_result"
    }
   ],
   "source": [
    "junior_data['CompTotal'].dtype"
   ]
  },
  {
   "cell_type": "markdown",
   "metadata": {},
   "source": [
    "### How many years of code experience Junior data professional had?"
   ]
  },
  {
   "cell_type": "code",
   "execution_count": 63,
   "metadata": {},
   "outputs": [
    {
     "data": {
      "text/plain": [
       "2                   0.165179\n",
       "3                   0.120536\n",
       "5                   0.120536\n",
       "4                   0.107143\n",
       "6                   0.102679\n",
       "1                   0.093750\n",
       "Less than 1 year    0.080357\n",
       "7                   0.066964\n",
       "8                   0.049107\n",
       "9                   0.031250\n",
       "10                  0.026786\n",
       "12                  0.008929\n",
       "14                  0.008929\n",
       "15                  0.008929\n",
       "19                  0.004464\n",
       "13                  0.004464\n",
       "Name: YearsCode, dtype: float64"
      ]
     },
     "execution_count": 63,
     "metadata": {},
     "output_type": "execute_result"
    }
   ],
   "source": [
    "junior_data_CompTotal_out['YearsCode'].value_counts()/junior_data_CompTotal_out.shape[0]"
   ]
  },
  {
   "cell_type": "code",
   "execution_count": 64,
   "metadata": {},
   "outputs": [
    {
     "data": {
      "text/plain": [
       "0.709823"
      ]
     },
     "execution_count": 64,
     "metadata": {},
     "output_type": "execute_result"
    }
   ],
   "source": [
    "0.165179+0.120536+0.120536+0.107143+0.102679+0.093750"
   ]
  },
  {
   "cell_type": "markdown",
   "metadata": {},
   "source": [
    "### About 71 percent of the respondents had 1-6 years of coding experience"
   ]
  },
  {
   "cell_type": "code",
   "execution_count": null,
   "metadata": {},
   "outputs": [],
   "source": []
  }
 ],
 "metadata": {
  "kernelspec": {
   "display_name": "Python 3",
   "language": "python",
   "name": "python3"
  },
  "language_info": {
   "codemirror_mode": {
    "name": "ipython",
    "version": 3
   },
   "file_extension": ".py",
   "mimetype": "text/x-python",
   "name": "python",
   "nbconvert_exporter": "python",
   "pygments_lexer": "ipython3",
   "version": "3.7.1"
  }
 },
 "nbformat": 4,
 "nbformat_minor": 2
}
