{
 "cells": [
  {
   "cell_type": "code",
   "execution_count": 114,
   "metadata": {},
   "outputs": [],
   "source": [
    "##Importing the libraries used\n",
    "import pandas as pd\n",
    "import numpy as np\n",
    "import seaborn as sns\n",
    "from collections import defaultdict\n",
    "import re"
   ]
  },
  {
   "cell_type": "code",
   "execution_count": 115,
   "metadata": {},
   "outputs": [],
   "source": [
    "## Reading the dataset\n",
    "df = pd.read_csv('../survey_results_public.csv')"
   ]
  },
  {
   "cell_type": "code",
   "execution_count": 116,
   "metadata": {},
   "outputs": [
    {
     "data": {
      "text/plain": [
       "(88883, 85)"
      ]
     },
     "execution_count": 116,
     "metadata": {},
     "output_type": "execute_result"
    }
   ],
   "source": [
    "df.shape\n",
    "## data has 88883 rows and 85 columns"
   ]
  },
  {
   "cell_type": "markdown",
   "metadata": {},
   "source": [
    "### Data Preparation"
   ]
  },
  {
   "cell_type": "code",
   "execution_count": 117,
   "metadata": {},
   "outputs": [],
   "source": [
    "\n",
    "## Regex to filter Data professionals, less than 1 year  of professional coding experience\n",
    "junior_data = df[(df['YearsCodePro']=='Less than 1 year')&\n",
    "                 (df['DevType'].str.contains(\"data\\s|\\sdata$|\\sdata\\s\",\n",
    "                                             flags=re.IGNORECASE,regex=True).fillna(value=False))]"
   ]
  },
  {
   "cell_type": "code",
   "execution_count": 118,
   "metadata": {},
   "outputs": [],
   "source": [
    "senior_data = df[~(df['YearsCodePro']=='Less than 1 year')&\n",
    "                 ~(df['DevType'].str.contains(\"data\\s|\\sdata$|\\sdata\\s\",\n",
    "                                              flags=re.IGNORECASE,regex=True).fillna(value=False))]"
   ]
  },
  {
   "cell_type": "code",
   "execution_count": 119,
   "metadata": {},
   "outputs": [],
   "source": [
    "## list of possible values of 'DevType'- developer type\n",
    "possible_vals = ['Academic researcher','Data or business analyst',\n",
    "                 'Data scientist or machine learning specialist','Database administrator',\n",
    "                 'Designer','Developer, back-end','Developer, desktop or enterprise applications',\n",
    "                 'Developer, embedded applications or devices','Developer, front-end',\n",
    "                 'Developer, full-stack','Developer, game or graphics Developer, mobile',\n",
    "                 'Developer, QA or test','DevOps specialist','Educator','Engineer, data',\n",
    "                 'Engineer, site reliability','Engineering manager','Marketing or sales professional',\n",
    "                 'Product manager','Scientist','Senior Executive (C-Suite, VP, etc.)',\n",
    "                 'Student','System administrator','Other']"
   ]
  },
  {
   "cell_type": "code",
   "execution_count": 120,
   "metadata": {},
   "outputs": [],
   "source": [
    "## Function that returns the count of each values in the list of interest\n",
    "def total_count(df,col1,col2,lookfor):\n",
    "    '''\n",
    "    Returns a dataframe with the count of values in the input dataframe for the corresponding value\n",
    "    in the lookfor list.\n",
    "    \n",
    "    Parameters: \n",
    "        df(dataframe): Input dataframe from the raw response data; a single respondent might have more than \n",
    "        one response separated by a semi-colon.\n",
    "        col1: The first column in the df dataframe which contains the response.\n",
    "        col2: The second column in the df dataframe which containes the count; number of times that response\n",
    "        was found in the dataframe.\n",
    "        lookfor(list): Contains the list of possible values of the responses.\n",
    "        \n",
    "    Returns: The function returns a dataframe with number of times each responses in the 'lookfor' list\n",
    "    appeared in the input dataframe 'df'.\n",
    "    \n",
    "    '''\n",
    "    \n",
    "    new_df = defaultdict(int)\n",
    "    for val in lookfor:\n",
    "        for idx in range(df.shape[0]):\n",
    "            if val in df[col1][idx]:\n",
    "                new_df[val]+= int(df[col2][idx])\n",
    "    new_df = pd.DataFrame(pd.Series(new_df)).reset_index()\n",
    "    new_df.columns = [col1,col2]\n",
    "    new_df.sort_values('Count',ascending = False, inplace = True)\n",
    "    return new_df"
   ]
  },
  {
   "cell_type": "markdown",
   "metadata": {},
   "source": [
    "#### Dataframe to represent the value counts of 'DeveTypes'"
   ]
  },
  {
   "cell_type": "code",
   "execution_count": 121,
   "metadata": {},
   "outputs": [],
   "source": [
    "datatype = junior_data['DevType'].value_counts().reset_index()\n",
    "datatype.rename(columns = {'index':'DevType','DevType':'Count'},inplace=True)\n",
    "datatype_df = total_count(datatype,'DevType','Count',possible_vals)"
   ]
  },
  {
   "cell_type": "code",
   "execution_count": 122,
   "metadata": {},
   "outputs": [],
   "source": [
    "## Adding percentage of each roles present\n",
    "datatype_df['perc'] = datatype_df['Count']/558"
   ]
  },
  {
   "cell_type": "markdown",
   "metadata": {},
   "source": [
    "### Analysis"
   ]
  },
  {
   "cell_type": "markdown",
   "metadata": {},
   "source": [
    "### Who are these Junior Data Professionals?"
   ]
  },
  {
   "cell_type": "code",
   "execution_count": 123,
   "metadata": {},
   "outputs": [
    {
     "data": {
      "text/plain": [
       "<matplotlib.axes._subplots.AxesSubplot at 0x11ff8f7f0>"
      ]
     },
     "execution_count": 123,
     "metadata": {},
     "output_type": "execute_result"
    },
    {
     "data": {
      "image/png": "[encoded data removed]",
      "text/plain": [
       "<Figure size 432x288 with 1 Axes>"
      ]
     },
     "metadata": {
      "needs_background": "light"
     },
     "output_type": "display_data"
    }
   ],
   "source": [
    "sns.barplot(x= datatype_df['Count'], y= datatype_df['DevType'])"
   ]
  },
  {
   "cell_type": "markdown",
   "metadata": {},
   "source": [
    "#### Majority of them identify themselves as DataScientist or Machine Learning Specialist which is about 54 percent. About 51 percent as Data or Business Analyst. About 2 pecent of the respondents also identifed themselves as Marketing or Sales professional  and was the lowest among the responses. "
   ]
  },
  {
   "cell_type": "markdown",
   "metadata": {},
   "source": [
    "### Does the Junior Data Professional work longer on average compared to the total average number of working hours per week?"
   ]
  },
  {
   "cell_type": "code",
   "execution_count": 124,
   "metadata": {},
   "outputs": [
    {
     "data": {
      "text/plain": [
       "38.86727688787185"
      ]
     },
     "execution_count": 124,
     "metadata": {},
     "output_type": "execute_result"
    }
   ],
   "source": [
    "## mean hours for a junior data pro\n",
    "junior_data['WorkWeekHrs'].mean()"
   ]
  },
  {
   "cell_type": "code",
   "execution_count": 125,
   "metadata": {},
   "outputs": [
    {
     "data": {
      "text/plain": [
       "42.15981877335889"
      ]
     },
     "execution_count": 125,
     "metadata": {},
     "output_type": "execute_result"
    }
   ],
   "source": [
    "## mean hours for a senior data pro\n",
    "senior_data['WorkWeekHrs'].mean()"
   ]
  },
  {
   "cell_type": "markdown",
   "metadata": {},
   "source": [
    "On average Junior Data Professional works 3.25 hours less than the general average"
   ]
  },
  {
   "cell_type": "markdown",
   "metadata": {},
   "source": [
    "### What is the average salary of a Junior Data Professional?"
   ]
  },
  {
   "cell_type": "code",
   "execution_count": 126,
   "metadata": {},
   "outputs": [
    {
     "data": {
      "text/plain": [
       "<matplotlib.axes._subplots.AxesSubplot at 0x106c3f0f0>"
      ]
     },
     "execution_count": 126,
     "metadata": {},
     "output_type": "execute_result"
    },
    {
     "data": {
      "image/png": "[encoded data removed]",
      "text/plain": [
       "<Figure size 360x1440 with 1 Axes>"
      ]
     },
     "metadata": {
      "needs_background": "light"
     },
     "output_type": "display_data"
    }
   ],
   "source": [
    "## Box plot reveals the skew and outliers\n",
    "junior_data.boxplot(column ='CompTotal',figsize=(5,20))"
   ]
  },
  {
   "cell_type": "code",
   "execution_count": 127,
   "metadata": {},
   "outputs": [
    {
     "data": {
      "text/plain": [
       "3192505.914438503"
      ]
     },
     "execution_count": 127,
     "metadata": {},
     "output_type": "execute_result"
    }
   ],
   "source": [
    "## Mean value of tge Total Compensation\n",
    "junior_data['CompTotal'].mean()"
   ]
  },
  {
   "cell_type": "code",
   "execution_count": 128,
   "metadata": {},
   "outputs": [
    {
     "data": {
      "text/plain": [
       "37400.0"
      ]
     },
     "execution_count": 128,
     "metadata": {},
     "output_type": "execute_result"
    }
   ],
   "source": [
    "## Median Value\n",
    "junior_data['CompTotal'].median()"
   ]
  },
  {
   "cell_type": "code",
   "execution_count": 129,
   "metadata": {},
   "outputs": [
    {
     "data": {
      "text/plain": [
       "1000000000.0"
      ]
     },
     "execution_count": 129,
     "metadata": {},
     "output_type": "execute_result"
    }
   ],
   "source": [
    "## Max value of Total Compensation\n",
    "junior_data['CompTotal'].max()"
   ]
  },
  {
   "cell_type": "code",
   "execution_count": 130,
   "metadata": {},
   "outputs": [
    {
     "name": "stderr",
     "output_type": "stream",
     "text": [
      "/Users/kavitasreejithpillai/anaconda3/lib/python3.7/site-packages/pandas/core/indexing.py:543: SettingWithCopyWarning: \n",
      "A value is trying to be set on a copy of a slice from a DataFrame.\n",
      "Try using .loc[row_indexer,col_indexer] = value instead\n",
      "\n",
      "See the caveats in the documentation: http://pandas.pydata.org/pandas-docs/stable/indexing.html#indexing-view-versus-copy\n",
      "  self.obj[item] = s\n"
     ]
    }
   ],
   "source": [
    "## using median to fill the na values, median is used due to skew in data with \n",
    "## high values. Using median is better in the cases with highly skewed data as it\n",
    "## can represent the central tendancy better and is not affected by the skew.\n",
    "junior_data.loc[:,'CompTotal'] = junior_data['CompTotal'].fillna(junior_data['CompTotal'].median())"
   ]
  },
  {
   "cell_type": "code",
   "execution_count": 131,
   "metadata": {},
   "outputs": [],
   "source": [
    "## creating dataframe without outliers for Total Compensation\n",
    "junior_data_CompTotal_out = junior_data[junior_data['CompTotal']\n",
    "                                        .between(junior_data['CompTotal'].quantile(.15), \n",
    "                                                 junior_data['CompTotal'].quantile(.75))]"
   ]
  },
  {
   "cell_type": "code",
   "execution_count": 132,
   "metadata": {},
   "outputs": [
    {
     "data": {
      "text/plain": [
       "<matplotlib.axes._subplots.AxesSubplot at 0x11ade9f28>"
      ]
     },
     "execution_count": 132,
     "metadata": {},
     "output_type": "execute_result"
    },
    {
     "data": {
      "image/png": "[encoded data removed]",
      "text/plain": [
       "<Figure size 432x288 with 1 Axes>"
      ]
     },
     "metadata": {
      "needs_background": "light"
     },
     "output_type": "display_data"
    }
   ],
   "source": [
    "## Distribution the total compensation variable\n",
    "junior_data_CompTotal_out['CompTotal'].plot(kind='hist')"
   ]
  },
  {
   "cell_type": "code",
   "execution_count": 133,
   "metadata": {},
   "outputs": [],
   "source": [
    "## list of all possible values for LanguagesWorkedWith variable\n",
    "possible_vals_tech = ['Assembly','Bash/Shell/PowerShell', 'C','C++','C#','Clojure Dart Elixir Erlang','F#',\n",
    "                      'Go','HTML/CSS','Java','JavaScript','Kotlin','Objective-C','PHP',\n",
    "                      'Python','R','Ruby','Rust','Scala','SQL','Swift','TypeScript','VBA','WebAssembly']"
   ]
  },
  {
   "cell_type": "code",
   "execution_count": 134,
   "metadata": {},
   "outputs": [],
   "source": [
    "techtype = junior_data_CompTotal_out['LanguageWorkedWith'].value_counts().reset_index()"
   ]
  },
  {
   "cell_type": "code",
   "execution_count": 135,
   "metadata": {},
   "outputs": [],
   "source": [
    "techtype.rename(columns = {'index':'skill','LanguageWorkedWith':'Count'},inplace=True)"
   ]
  },
  {
   "cell_type": "code",
   "execution_count": 136,
   "metadata": {},
   "outputs": [],
   "source": [
    "tech_df = total_count(techtype,'skill','Count',possible_vals_tech)"
   ]
  },
  {
   "cell_type": "code",
   "execution_count": 137,
   "metadata": {},
   "outputs": [
    {
     "data": {
      "text/plain": [
       "<matplotlib.axes._subplots.AxesSubplot at 0x106c83e48>"
      ]
     },
     "execution_count": 137,
     "metadata": {},
     "output_type": "execute_result"
    },
    {
     "data": {
      "image/png": "[encoded data removed]",
      "text/plain": [
       "<Figure size 432x288 with 1 Axes>"
      ]
     },
     "metadata": {
      "needs_background": "light"
     },
     "output_type": "display_data"
    }
   ],
   "source": [
    "## Bar char to represent the skill sets\n",
    "sns.barplot(x= tech_df['Count'], y= tech_df['skill'])"
   ]
  },
  {
   "cell_type": "code",
   "execution_count": 138,
   "metadata": {},
   "outputs": [],
   "source": [
    "junior_data_CompTotal_out_high = junior_data_CompTotal_out[junior_data_CompTotal_out['CompTotal']>35000]"
   ]
  },
  {
   "cell_type": "code",
   "execution_count": 139,
   "metadata": {},
   "outputs": [
    {
     "data": {
      "text/plain": [
       "<matplotlib.axes._subplots.AxesSubplot at 0x11c2e2a58>"
      ]
     },
     "execution_count": 139,
     "metadata": {},
     "output_type": "execute_result"
    },
    {
     "data": {
      "image/png": "[encoded data removed]",
      "text/plain": [
       "<Figure size 432x288 with 1 Axes>"
      ]
     },
     "metadata": {
      "needs_background": "light"
     },
     "output_type": "display_data"
    }
   ],
   "source": [
    "techtype_top_comp = junior_data_CompTotal_out_high['LanguageWorkedWith'].value_counts().reset_index()\n",
    "techtype_top_comp.rename(columns = {'index':'skill','LanguageWorkedWith':'Count'},inplace=True)\n",
    "top_comp_df = total_count(techtype_top_comp,'skill','Count',possible_vals_tech)\n",
    "sns.barplot(x= top_comp_df['Count'], y= top_comp_df['skill'])"
   ]
  },
  {
   "cell_type": "markdown",
   "metadata": {},
   "source": [
    "### How many years of code experience Junior data professional had?"
   ]
  },
  {
   "cell_type": "code",
   "execution_count": 140,
   "metadata": {},
   "outputs": [
    {
     "data": {
      "text/plain": [
       "2                   0.143284\n",
       "Less than 1 year    0.137313\n",
       "5                   0.128358\n",
       "3                   0.122388\n",
       "4                   0.113433\n",
       "6                   0.092537\n",
       "1                   0.083582\n",
       "8                   0.047761\n",
       "7                   0.038806\n",
       "10                  0.035821\n",
       "9                   0.020896\n",
       "13                  0.008955\n",
       "14                  0.005970\n",
       "20                  0.002985\n",
       "35                  0.002985\n",
       "30                  0.002985\n",
       "24                  0.002985\n",
       "12                  0.002985\n",
       "19                  0.002985\n",
       "15                  0.002985\n",
       "Name: YearsCode, dtype: float64"
      ]
     },
     "execution_count": 140,
     "metadata": {},
     "output_type": "execute_result"
    }
   ],
   "source": [
    "junior_data_CompTotal_out['YearsCode'].value_counts()/junior_data_CompTotal_out.shape[0]"
   ]
  },
  {
   "cell_type": "code",
   "execution_count": 141,
   "metadata": {},
   "outputs": [
    {
     "data": {
      "text/plain": [
       "0.709823"
      ]
     },
     "execution_count": 141,
     "metadata": {},
     "output_type": "execute_result"
    }
   ],
   "source": [
    "0.165179+0.120536+0.120536+0.107143+0.102679+0.093750"
   ]
  },
  {
   "cell_type": "markdown",
   "metadata": {},
   "source": [
    "#### About 71 percent of the respondents had 1-6 years of coding experience"
   ]
  }
 ],
 "metadata": {
  "kernelspec": {
   "display_name": "Python 3",
   "language": "python",
   "name": "python3"
  },
  "language_info": {
   "codemirror_mode": {
    "name": "ipython",
    "version": 3
   },
   "file_extension": ".py",
   "mimetype": "text/x-python",
   "name": "python",
   "nbconvert_exporter": "python",
   "pygments_lexer": "ipython3",
   "version": "3.7.1"
  }
 },
 "nbformat": 4,
 "nbformat_minor": 2
}
